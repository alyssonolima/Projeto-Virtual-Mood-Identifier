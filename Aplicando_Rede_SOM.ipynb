{
  "nbformat": 4,
  "nbformat_minor": 0,
  "metadata": {
    "colab": {
      "name": "Aplicando Rede SOM.ipynb",
      "provenance": [],
      "collapsed_sections": []
    },
    "kernelspec": {
      "name": "python3",
      "display_name": "Python 3"
    }
  },
  "cells": [
    {
      "cell_type": "code",
      "metadata": {
        "id": "Eikl8U_X3ZFW",
        "colab_type": "code",
        "outputId": "b35865e4-3fd0-4b11-8a32-1610835ff3b7",
        "colab": {
          "base_uri": "https://localhost:8080/",
          "height": 170
        }
      },
      "source": [
        "# UNIVERSIDADE FEDERAL DO RIO GRANDE DO NORTE \n",
        "# Ano: 2019\n",
        "# Projeto: Virtual Mood Identifier\n",
        "# Autor: Alysson Rafael Oliveira de Lima\n",
        "#\n",
        "# Aplicando a rede SOM nos tweets categorizados para dividir e gerar um padrão de sentimentos.\n",
        "\n",
        "# Importing the libraries\n",
        "import numpy as np\n",
        "import matplotlib.pyplot as plt\n",
        "import pandas as pd\n",
        "\n",
        "# Install MiniSOM\n",
        "# https://github.com/JustGlowing/minisom \n",
        "!pip install minisom"
      ],
      "execution_count": 1,
      "outputs": [
        {
          "output_type": "stream",
          "text": [
            "Collecting minisom\n",
            "  Downloading https://files.pythonhosted.org/packages/75/66/a5863c1a3bc5993877781a5d58783ffbb02bcdf67c3b14094775c47711d0/MiniSom-2.2.2.tar.gz\n",
            "Building wheels for collected packages: minisom\n",
            "  Building wheel for minisom (setup.py) ... \u001b[?25l\u001b[?25hdone\n",
            "  Created wheel for minisom: filename=MiniSom-2.2.2-cp36-none-any.whl size=7263 sha256=847e238b5038079b8c1a752ac70e2a3737f3a4c781276230fcc2d140aac52145\n",
            "  Stored in directory: /root/.cache/pip/wheels/4a/46/e1/605a71c70f6a19f16b44fc309f6557127591c69969476cf5d1\n",
            "Successfully built minisom\n",
            "Installing collected packages: minisom\n",
            "Successfully installed minisom-2.2.2\n"
          ],
          "name": "stdout"
        }
      ]
    },
    {
      "cell_type": "code",
      "metadata": {
        "id": "8kwH_KOlZBBe",
        "colab_type": "code",
        "outputId": "839f6ede-6816-42b4-b64e-cce9bf866b23",
        "colab": {
          "base_uri": "https://localhost:8080/",
          "height": 359
        }
      },
      "source": [
        "#Lendo a base de dados.\n",
        "dataset = pd.read_csv('https://raw.githubusercontent.com/alyssonolima/Projeto-Virtual-Mood-Identifier/master/Dados/tweets_categorizados.csv')\n",
        "#dataset = pd.read_csv('https://raw.githubusercontent.com/alyssonolima/Projeto-Virtual-Mood-Identifier/master/Dados/tweets_Donald_Trump_categorizados.csv')\n",
        "#dataset = pd.read_csv('https://raw.githubusercontent.com/alyssonolima/Projeto-Virtual-Mood-Identifier/master/Dados/tweets_Barack_Obama_categorizados.csv')\n",
        "\n",
        "#Exibe os 10\n",
        "dataset.head( 10 )"
      ],
      "execution_count": 2,
      "outputs": [
        {
          "output_type": "execute_result",
          "data": {
            "text/html": [
              "<div>\n",
              "<style scoped>\n",
              "    .dataframe tbody tr th:only-of-type {\n",
              "        vertical-align: middle;\n",
              "    }\n",
              "\n",
              "    .dataframe tbody tr th {\n",
              "        vertical-align: top;\n",
              "    }\n",
              "\n",
              "    .dataframe thead th {\n",
              "        text-align: right;\n",
              "    }\n",
              "</style>\n",
              "<table border=\"1\" class=\"dataframe\">\n",
              "  <thead>\n",
              "    <tr style=\"text-align: right;\">\n",
              "      <th></th>\n",
              "      <th>Unnamed: 0</th>\n",
              "      <th>tweets</th>\n",
              "      <th>compound</th>\n",
              "      <th>negativos</th>\n",
              "      <th>neutro</th>\n",
              "      <th>positivo</th>\n",
              "    </tr>\n",
              "  </thead>\n",
              "  <tbody>\n",
              "    <tr>\n",
              "      <th>0</th>\n",
              "      <td>0</td>\n",
              "      <td>\"teste\"</td>\n",
              "      <td>0.0000</td>\n",
              "      <td>0.000</td>\n",
              "      <td>1.000</td>\n",
              "      <td>0.000</td>\n",
              "    </tr>\n",
              "    <tr>\n",
              "      <th>1</th>\n",
              "      <td>1</td>\n",
              "      <td>RT @WhiteHouse: LIVE: President @realDonaldTru...</td>\n",
              "      <td>0.2960</td>\n",
              "      <td>0.000</td>\n",
              "      <td>0.804</td>\n",
              "      <td>0.196</td>\n",
              "    </tr>\n",
              "    <tr>\n",
              "      <th>2</th>\n",
              "      <td>2</td>\n",
              "      <td>...love to have Mike Pompeo, Rick Perry, Mick ...</td>\n",
              "      <td>-0.7177</td>\n",
              "      <td>0.140</td>\n",
              "      <td>0.860</td>\n",
              "      <td>0.000</td>\n",
              "    </tr>\n",
              "    <tr>\n",
              "      <th>3</th>\n",
              "      <td>3</td>\n",
              "      <td>...lawyer has already stated that I did nothin...</td>\n",
              "      <td>0.3724</td>\n",
              "      <td>0.000</td>\n",
              "      <td>0.943</td>\n",
              "      <td>0.057</td>\n",
              "    </tr>\n",
              "    <tr>\n",
              "      <th>4</th>\n",
              "      <td>4</td>\n",
              "      <td>The D.C. Wolves and Fake News Media are readin...</td>\n",
              "      <td>-0.7269</td>\n",
              "      <td>0.165</td>\n",
              "      <td>0.787</td>\n",
              "      <td>0.048</td>\n",
              "    </tr>\n",
              "    <tr>\n",
              "      <th>5</th>\n",
              "      <td>5</td>\n",
              "      <td>RT @DailyCaller: President @realDonaldTrump si...</td>\n",
              "      <td>0.0000</td>\n",
              "      <td>0.000</td>\n",
              "      <td>1.000</td>\n",
              "      <td>0.000</td>\n",
              "    </tr>\n",
              "    <tr>\n",
              "      <th>6</th>\n",
              "      <td>6</td>\n",
              "      <td>RT @DailyCaller: Adam Schiff Challenger Jennif...</td>\n",
              "      <td>-0.6249</td>\n",
              "      <td>0.242</td>\n",
              "      <td>0.693</td>\n",
              "      <td>0.065</td>\n",
              "    </tr>\n",
              "    <tr>\n",
              "      <th>7</th>\n",
              "      <td>7</td>\n",
              "      <td>RT @DailyCaller: The Tide Is Turning Against D...</td>\n",
              "      <td>0.0000</td>\n",
              "      <td>0.000</td>\n",
              "      <td>1.000</td>\n",
              "      <td>0.000</td>\n",
              "    </tr>\n",
              "    <tr>\n",
              "      <th>8</th>\n",
              "      <td>8</td>\n",
              "      <td>RT @DailyCaller: Poll: Independents Flip On Im...</td>\n",
              "      <td>0.0000</td>\n",
              "      <td>0.000</td>\n",
              "      <td>1.000</td>\n",
              "      <td>0.000</td>\n",
              "    </tr>\n",
              "    <tr>\n",
              "      <th>9</th>\n",
              "      <td>9</td>\n",
              "      <td>When the Military rips down an old &amp;amp; badly...</td>\n",
              "      <td>0.3707</td>\n",
              "      <td>0.100</td>\n",
              "      <td>0.759</td>\n",
              "      <td>0.141</td>\n",
              "    </tr>\n",
              "  </tbody>\n",
              "</table>\n",
              "</div>"
            ],
            "text/plain": [
              "   Unnamed: 0  ... positivo\n",
              "0           0  ...    0.000\n",
              "1           1  ...    0.196\n",
              "2           2  ...    0.000\n",
              "3           3  ...    0.057\n",
              "4           4  ...    0.048\n",
              "5           5  ...    0.000\n",
              "6           6  ...    0.065\n",
              "7           7  ...    0.000\n",
              "8           8  ...    0.000\n",
              "9           9  ...    0.141\n",
              "\n",
              "[10 rows x 6 columns]"
            ]
          },
          "metadata": {
            "tags": []
          },
          "execution_count": 2
        }
      ]
    },
    {
      "cell_type": "code",
      "metadata": {
        "id": "pLvLhz7DaEDc",
        "colab_type": "code",
        "colab": {}
      },
      "source": [
        "#Pegando os dados necessários\n",
        "X = dataset.iloc[:,[2,3,4,5]].values\n"
      ],
      "execution_count": 0,
      "outputs": []
    },
    {
      "cell_type": "code",
      "metadata": {
        "id": "mupskaaoadxu",
        "colab_type": "code",
        "colab": {}
      },
      "source": [
        ""
      ],
      "execution_count": 0,
      "outputs": []
    },
    {
      "cell_type": "code",
      "metadata": {
        "id": "X77Gz_5qai7B",
        "colab_type": "code",
        "colab": {}
      },
      "source": [
        "#tamanho da rede\n",
        "tx = 4\n",
        "ty = 4\n",
        "\n",
        "# Training the SOM\n",
        "from minisom import MiniSom\n",
        "som = MiniSom(x = tx, y = ty, input_len = 4, sigma = 1.0, learning_rate = 0.5)\n",
        "som.random_weights_init(X)\n",
        "som.train_random(data = X, num_iteration = 1000)"
      ],
      "execution_count": 0,
      "outputs": []
    },
    {
      "cell_type": "code",
      "metadata": {
        "id": "om1qvfZBawX3",
        "colab_type": "code",
        "outputId": "47f2f117-e1be-4810-9327-b4ec36fe9332",
        "colab": {
          "base_uri": "https://localhost:8080/",
          "height": 281
        }
      },
      "source": [
        "#compount negativos\tneutro\tpositivo\n",
        "negativo = [-0.6229, 1., 0., 0.] #Frase: BAD!!\n",
        "neutro   = [0., 0., 1., 0.]\n",
        "positivo = [0.6467, 0., 0., 1.] #Frase: HAPPY!!\n",
        "\n",
        "import matplotlib\n",
        "import matplotlib.pyplot as plt\n",
        "\n",
        "# matriz de zeros para o contador de totais \n",
        "MT = np.zeros((tx,ty))\n",
        "\n",
        "fig, ax = plt.subplots()\n",
        "ax.set_title('Distribuição agrupada dos tweets')\n",
        "\n",
        "for i in X:\n",
        "  pos = som.winner(i)\n",
        "  ax.plot(pos[0], pos[1], 'o' ,color=\"black\", markersize=10)  \n",
        "  MT[pos] += 1\n",
        "\n",
        "#plota um teeter 100% Positivo\n",
        "pos = som.winner(positivo)\n",
        "ax.plot(pos[0], pos[1], 'o' ,color=\"green\", markersize=20)\n",
        "\n",
        "#plota um tweeter 100% negativo\n",
        "pos = som.winner(negativo)\n",
        "ax.plot(pos[0], pos[1], 'o' ,color=\"red\", markersize=20)\n",
        "\n",
        "#plota um tweeter 100% neutro\n",
        "pos = som.winner(neutro)\n",
        "ax.plot(pos[0], pos[1], 'o' ,color=\"blue\", markersize=20 )\n",
        "\n",
        "plt.show()"
      ],
      "execution_count": 5,
      "outputs": [
        {
          "output_type": "display_data",
          "data": {
            "image/png": "[encoded data removed]",
            "text/plain": [
              "<Figure size 432x288 with 1 Axes>"
            ]
          },
          "metadata": {
            "tags": []
          }
        }
      ]
    },
    {
      "cell_type": "code",
      "metadata": {
        "id": "q9NhkML8GIhF",
        "colab_type": "code",
        "colab": {}
      },
      "source": [
        ""
      ],
      "execution_count": 0,
      "outputs": []
    },
    {
      "cell_type": "code",
      "metadata": {
        "id": "XQHsEVkDlr_w",
        "colab_type": "code",
        "outputId": "a4eb3eff-c228-4676-8b30-64e5c34ac88b",
        "colab": {
          "base_uri": "https://localhost:8080/",
          "height": 102
        }
      },
      "source": [
        "print(\"Total:\")\n",
        "print(MT)"
      ],
      "execution_count": 6,
      "outputs": [
        {
          "output_type": "stream",
          "text": [
            "Total:\n",
            "[[128.  99.  92. 274.]\n",
            " [ 57.  56.  43.  58.]\n",
            " [ 16.  40.  70. 108.]\n",
            " [  8.  28.  34.  88.]]\n"
          ],
          "name": "stdout"
        }
      ]
    }
  ]
}