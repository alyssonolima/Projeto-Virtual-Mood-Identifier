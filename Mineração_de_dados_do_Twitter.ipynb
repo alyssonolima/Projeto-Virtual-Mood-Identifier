{
  "nbformat": 4,
  "nbformat_minor": 0,
  "metadata": {
    "colab": {
      "name": "Mineração de dados do Twitter.ipynb",
      "provenance": [],
      "collapsed_sections": []
    },
    "kernelspec": {
      "name": "python3",
      "display_name": "Python 3"
    }
  },
  "cells": [
    {
      "cell_type": "code",
      "metadata": {
        "id": "3Ef090O9Ay29",
        "colab_type": "code",
        "colab": {}
      },
      "source": [
        "# UNIVERSIDADE FEDERAL DO RIO GRANDE DO NORTE \n",
        "# Ano: 2019\n",
        "# Projeto: Virtual Mood Identifier\n",
        "# Autor: Alysson Rafael Oliveira de Lima\n",
        "#\n",
        "# Esse código implementa a mineração das mensagens dos usuários do tweet e salva-as em um arquivo .csv\n",
        "\n",
        "import tweepy\n",
        "import re\n",
        "import pandas as pd"
      ],
      "execution_count": 0,
      "outputs": []
    },
    {
      "cell_type": "code",
      "metadata": {
        "id": "aTVRtH1s8Y_F",
        "colab_type": "code",
        "colab": {}
      },
      "source": [
        "# passa o Consumer Key e o Consumer Secret\n",
        "auth = tweepy.OAuthHandler('<CONSUMER KEY>', '<CONSUMER SECRET>')\n",
        "# define o token de acesso\n",
        "# passa o \"Access Token\" e o \"Access Token Secret\"\n",
        "auth.set_access_token('<ACCESS TOKEN>',\t'<ACCESS TOKEN SECRET>')\n",
        "\n",
        "# cria um objeto api\n",
        "api = tweepy.API(auth)"
      ],
      "execution_count": 0,
      "outputs": []
    },
    {
      "cell_type": "code",
      "metadata": {
        "id": "cziXhjIh9d4g",
        "colab_type": "code",
        "colab": {}
      },
      "source": [
        "# obtém tweets de um usuário\n",
        "def obter_tweets(usuario, limite=500):\n",
        "\tresultados = api.user_timeline(screen_name=usuario, count=limite, tweet_mode='extended')\n",
        "\ttweets = [] # lista de tweets inicialmente vazia\n",
        "\tfor r in resultados:\n",
        "\t\t# utiliza expressão regular para remover a URL do tweet\n",
        "\t\t# http pega o início da url\n",
        "\t\t# \\S+ pega os caracteres não brancos (o final da URL) \n",
        "\t\ttweet = re.sub(r'http\\S+', '', r.full_text)\n",
        "\t\ttweets.append(tweet.replace('\\n', ' ')) # adiciona na lista\n",
        "\treturn tweets # retorna a lista de tweets"
      ],
      "execution_count": 0,
      "outputs": []
    },
    {
      "cell_type": "code",
      "metadata": {
        "id": "OCmC8WYK-T6O",
        "colab_type": "code",
        "colab": {}
      },
      "source": [
        "#Os endereços dos usuários desejados. exemplo: @tweeter, copia apenas o 'tweeter'\n",
        "usuarios = ['realDonaldTrump', 'BarackObama', 'justwardoctrine','BBCWorld', 'CNN', 'nytimes']\n",
        "tweets = []\n",
        "#Para cada usuário obtém os tweets e armazena na lista tweets.\n",
        "for u in usuarios:\n",
        "  aux = obter_tweets(usuario=u , limite=500)  \n",
        "  len(aux) \n",
        "  for t in aux:     \n",
        "    tweets.append(t)      \n",
        "    \n",
        "#Cria uma variável panda\n",
        "tw = pd.DataFrame({'Tweets' : tweets})\n",
        "\n",
        "#Salva os tweets em um formato csv\n",
        "tw.to_csv(\"tweets_brutos.csv\")"
      ],
      "execution_count": 0,
      "outputs": []
    },
    {
      "cell_type": "code",
      "metadata": {
        "id": "Ow1MMYcqkXfs",
        "colab_type": "code",
        "colab": {}
      },
      "source": [
        ""
      ],
      "execution_count": 0,
      "outputs": []
    }
  ]
}